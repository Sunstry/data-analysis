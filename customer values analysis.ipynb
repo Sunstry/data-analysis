{
 "cells": [
  {
   "cell_type": "code",
   "execution_count": 2,
   "id": "8f34fb0d-d776-4b75-8ce8-9cd890c943b1",
   "metadata": {
    "tags": []
   },
   "outputs": [],
   "source": [
    "import numpy as np\n",
    "import pandas as pd\n",
    "import matplotlib.pyplot as plt\n",
    "import seaborn as sns\n",
    "%matplotlib inline"
   ]
  },
  {
   "cell_type": "markdown",
   "id": "00c23b57-ef8d-4410-90e8-a41b0b0dce84",
   "metadata": {},
   "source": [
    "# 提出问题"
   ]
  },
  {
   "cell_type": "markdown",
   "id": "974a06cd-2d6c-4e68-86a7-521c38f98842",
   "metadata": {},
   "source": [
    "- 不同时间维度下用户活跃度如何变化？\n",
    "- 用户的留存情况如何（复购率及漏斗流失情况）？\n",
    "- 用户价值情况？"
   ]
  },
  {
   "cell_type": "markdown",
   "id": "5d3e5201-390b-497c-a705-40b3f6c803ab",
   "metadata": {},
   "source": [
    "# 数据探索"
   ]
  },
  {
   "cell_type": "code",
   "execution_count": 5,
   "id": "20e04987-87ff-4e56-b50e-b1e8d32d683e",
   "metadata": {
    "tags": []
   },
   "outputs": [],
   "source": [
    "# 载入数据\n",
    "filepath = './tianchi_mobile_recommend_train_user.csv'\n",
    "data = pd.read_csv(filepath)"
   ]
  },
  {
   "cell_type": "code",
   "execution_count": 6,
   "id": "2f4c51ce-6cdc-42de-8bdb-899666709afd",
   "metadata": {
    "tags": []
   },
   "outputs": [
    {
     "data": {
      "text/html": [
       "<div>\n",
       "<style scoped>\n",
       "    .dataframe tbody tr th:only-of-type {\n",
       "        vertical-align: middle;\n",
       "    }\n",
       "\n",
       "    .dataframe tbody tr th {\n",
       "        vertical-align: top;\n",
       "    }\n",
       "\n",
       "    .dataframe thead th {\n",
       "        text-align: right;\n",
       "    }\n",
       "</style>\n",
       "<table border=\"1\" class=\"dataframe\">\n",
       "  <thead>\n",
       "    <tr style=\"text-align: right;\">\n",
       "      <th></th>\n",
       "      <th>user_id</th>\n",
       "      <th>item_id</th>\n",
       "      <th>behavior_type</th>\n",
       "      <th>user_geohash</th>\n",
       "      <th>item_category</th>\n",
       "      <th>time</th>\n",
       "    </tr>\n",
       "  </thead>\n",
       "  <tbody>\n",
       "    <tr>\n",
       "      <th>0</th>\n",
       "      <td>98047837</td>\n",
       "      <td>232431562</td>\n",
       "      <td>1</td>\n",
       "      <td>NaN</td>\n",
       "      <td>4245</td>\n",
       "      <td>2014-12-06 02</td>\n",
       "    </tr>\n",
       "    <tr>\n",
       "      <th>1</th>\n",
       "      <td>97726136</td>\n",
       "      <td>383583590</td>\n",
       "      <td>1</td>\n",
       "      <td>NaN</td>\n",
       "      <td>5894</td>\n",
       "      <td>2014-12-09 20</td>\n",
       "    </tr>\n",
       "    <tr>\n",
       "      <th>2</th>\n",
       "      <td>98607707</td>\n",
       "      <td>64749712</td>\n",
       "      <td>1</td>\n",
       "      <td>NaN</td>\n",
       "      <td>2883</td>\n",
       "      <td>2014-12-18 11</td>\n",
       "    </tr>\n",
       "    <tr>\n",
       "      <th>3</th>\n",
       "      <td>98662432</td>\n",
       "      <td>320593836</td>\n",
       "      <td>1</td>\n",
       "      <td>96nn52n</td>\n",
       "      <td>6562</td>\n",
       "      <td>2014-12-06 10</td>\n",
       "    </tr>\n",
       "    <tr>\n",
       "      <th>4</th>\n",
       "      <td>98145908</td>\n",
       "      <td>290208520</td>\n",
       "      <td>1</td>\n",
       "      <td>NaN</td>\n",
       "      <td>13926</td>\n",
       "      <td>2014-12-16 21</td>\n",
       "    </tr>\n",
       "  </tbody>\n",
       "</table>\n",
       "</div>"
      ],
      "text/plain": [
       "    user_id    item_id  behavior_type user_geohash  item_category  \\\n",
       "0  98047837  232431562              1          NaN           4245   \n",
       "1  97726136  383583590              1          NaN           5894   \n",
       "2  98607707   64749712              1          NaN           2883   \n",
       "3  98662432  320593836              1      96nn52n           6562   \n",
       "4  98145908  290208520              1          NaN          13926   \n",
       "\n",
       "            time  \n",
       "0  2014-12-06 02  \n",
       "1  2014-12-09 20  \n",
       "2  2014-12-18 11  \n",
       "3  2014-12-06 10  \n",
       "4  2014-12-16 21  "
      ]
     },
     "execution_count": 6,
     "metadata": {},
     "output_type": "execute_result"
    }
   ],
   "source": [
    "data.head()"
   ]
  },
  {
   "cell_type": "code",
   "execution_count": 7,
   "id": "73ec8d82-662e-4a54-a05a-74751d2ba133",
   "metadata": {
    "tags": []
   },
   "outputs": [
    {
     "data": {
      "text/html": [
       "<div>\n",
       "<style scoped>\n",
       "    .dataframe tbody tr th:only-of-type {\n",
       "        vertical-align: middle;\n",
       "    }\n",
       "\n",
       "    .dataframe tbody tr th {\n",
       "        vertical-align: top;\n",
       "    }\n",
       "\n",
       "    .dataframe thead th {\n",
       "        text-align: right;\n",
       "    }\n",
       "</style>\n",
       "<table border=\"1\" class=\"dataframe\">\n",
       "  <thead>\n",
       "    <tr style=\"text-align: right;\">\n",
       "      <th></th>\n",
       "      <th>user_id</th>\n",
       "      <th>item_id</th>\n",
       "      <th>behavior_type</th>\n",
       "      <th>user_geohash</th>\n",
       "      <th>item_category</th>\n",
       "      <th>time</th>\n",
       "    </tr>\n",
       "  </thead>\n",
       "  <tbody>\n",
       "    <tr>\n",
       "      <th>12256901</th>\n",
       "      <td>93812622</td>\n",
       "      <td>378365755</td>\n",
       "      <td>1</td>\n",
       "      <td>95q6d6a</td>\n",
       "      <td>11</td>\n",
       "      <td>2014-12-13 21</td>\n",
       "    </tr>\n",
       "    <tr>\n",
       "      <th>12256902</th>\n",
       "      <td>93812622</td>\n",
       "      <td>177724753</td>\n",
       "      <td>1</td>\n",
       "      <td>NaN</td>\n",
       "      <td>12311</td>\n",
       "      <td>2014-12-14 21</td>\n",
       "    </tr>\n",
       "    <tr>\n",
       "      <th>12256903</th>\n",
       "      <td>93812622</td>\n",
       "      <td>234391443</td>\n",
       "      <td>1</td>\n",
       "      <td>NaN</td>\n",
       "      <td>8765</td>\n",
       "      <td>2014-12-11 16</td>\n",
       "    </tr>\n",
       "    <tr>\n",
       "      <th>12256904</th>\n",
       "      <td>93812622</td>\n",
       "      <td>26452000</td>\n",
       "      <td>1</td>\n",
       "      <td>95q6dqc</td>\n",
       "      <td>7951</td>\n",
       "      <td>2014-12-08 22</td>\n",
       "    </tr>\n",
       "    <tr>\n",
       "      <th>12256905</th>\n",
       "      <td>108404535</td>\n",
       "      <td>362699797</td>\n",
       "      <td>1</td>\n",
       "      <td>NaN</td>\n",
       "      <td>9847</td>\n",
       "      <td>2014-12-03 19</td>\n",
       "    </tr>\n",
       "  </tbody>\n",
       "</table>\n",
       "</div>"
      ],
      "text/plain": [
       "            user_id    item_id  behavior_type user_geohash  item_category  \\\n",
       "12256901   93812622  378365755              1      95q6d6a             11   \n",
       "12256902   93812622  177724753              1          NaN          12311   \n",
       "12256903   93812622  234391443              1          NaN           8765   \n",
       "12256904   93812622   26452000              1      95q6dqc           7951   \n",
       "12256905  108404535  362699797              1          NaN           9847   \n",
       "\n",
       "                   time  \n",
       "12256901  2014-12-13 21  \n",
       "12256902  2014-12-14 21  \n",
       "12256903  2014-12-11 16  \n",
       "12256904  2014-12-08 22  \n",
       "12256905  2014-12-03 19  "
      ]
     },
     "execution_count": 7,
     "metadata": {},
     "output_type": "execute_result"
    }
   ],
   "source": [
    "data.tail()"
   ]
  },
  {
   "cell_type": "code",
   "execution_count": 8,
   "id": "4e3652fc-764d-4f31-b8c5-666c9736bc7f",
   "metadata": {
    "tags": []
   },
   "outputs": [
    {
     "name": "stdout",
     "output_type": "stream",
     "text": [
      "<class 'pandas.core.frame.DataFrame'>\n",
      "RangeIndex: 12256906 entries, 0 to 12256905\n",
      "Data columns (total 6 columns):\n",
      " #   Column         Dtype \n",
      "---  ------         ----- \n",
      " 0   user_id        int64 \n",
      " 1   item_id        int64 \n",
      " 2   behavior_type  int64 \n",
      " 3   user_geohash   object\n",
      " 4   item_category  int64 \n",
      " 5   time           object\n",
      "dtypes: int64(4), object(2)\n",
      "memory usage: 561.1+ MB\n"
     ]
    }
   ],
   "source": [
    "data.info()"
   ]
  },
  {
   "cell_type": "code",
   "execution_count": 9,
   "id": "c5279f27-394b-43ae-89e4-2cb6e97ccc3b",
   "metadata": {
    "tags": []
   },
   "outputs": [
    {
     "data": {
      "text/html": [
       "<div>\n",
       "<style scoped>\n",
       "    .dataframe tbody tr th:only-of-type {\n",
       "        vertical-align: middle;\n",
       "    }\n",
       "\n",
       "    .dataframe tbody tr th {\n",
       "        vertical-align: top;\n",
       "    }\n",
       "\n",
       "    .dataframe thead th {\n",
       "        text-align: right;\n",
       "    }\n",
       "</style>\n",
       "<table border=\"1\" class=\"dataframe\">\n",
       "  <thead>\n",
       "    <tr style=\"text-align: right;\">\n",
       "      <th></th>\n",
       "      <th>user_id</th>\n",
       "      <th>item_id</th>\n",
       "      <th>behavior_type</th>\n",
       "      <th>item_category</th>\n",
       "    </tr>\n",
       "  </thead>\n",
       "  <tbody>\n",
       "    <tr>\n",
       "      <th>count</th>\n",
       "      <td>1.225691e+07</td>\n",
       "      <td>1.225691e+07</td>\n",
       "      <td>1.225691e+07</td>\n",
       "      <td>1.225691e+07</td>\n",
       "    </tr>\n",
       "    <tr>\n",
       "      <th>mean</th>\n",
       "      <td>7.170732e+07</td>\n",
       "      <td>2.023084e+08</td>\n",
       "      <td>1.105271e+00</td>\n",
       "      <td>6.846162e+03</td>\n",
       "    </tr>\n",
       "    <tr>\n",
       "      <th>std</th>\n",
       "      <td>4.122920e+07</td>\n",
       "      <td>1.167397e+08</td>\n",
       "      <td>4.572662e-01</td>\n",
       "      <td>3.809922e+03</td>\n",
       "    </tr>\n",
       "    <tr>\n",
       "      <th>min</th>\n",
       "      <td>4.913000e+03</td>\n",
       "      <td>6.400000e+01</td>\n",
       "      <td>1.000000e+00</td>\n",
       "      <td>2.000000e+00</td>\n",
       "    </tr>\n",
       "    <tr>\n",
       "      <th>25%</th>\n",
       "      <td>3.584965e+07</td>\n",
       "      <td>1.014130e+08</td>\n",
       "      <td>1.000000e+00</td>\n",
       "      <td>3.721000e+03</td>\n",
       "    </tr>\n",
       "    <tr>\n",
       "      <th>50%</th>\n",
       "      <td>7.292804e+07</td>\n",
       "      <td>2.021359e+08</td>\n",
       "      <td>1.000000e+00</td>\n",
       "      <td>6.209000e+03</td>\n",
       "    </tr>\n",
       "    <tr>\n",
       "      <th>75%</th>\n",
       "      <td>1.073774e+08</td>\n",
       "      <td>3.035405e+08</td>\n",
       "      <td>1.000000e+00</td>\n",
       "      <td>1.029000e+04</td>\n",
       "    </tr>\n",
       "    <tr>\n",
       "      <th>max</th>\n",
       "      <td>1.424559e+08</td>\n",
       "      <td>4.045625e+08</td>\n",
       "      <td>4.000000e+00</td>\n",
       "      <td>1.408000e+04</td>\n",
       "    </tr>\n",
       "  </tbody>\n",
       "</table>\n",
       "</div>"
      ],
      "text/plain": [
       "            user_id       item_id  behavior_type  item_category\n",
       "count  1.225691e+07  1.225691e+07   1.225691e+07   1.225691e+07\n",
       "mean   7.170732e+07  2.023084e+08   1.105271e+00   6.846162e+03\n",
       "std    4.122920e+07  1.167397e+08   4.572662e-01   3.809922e+03\n",
       "min    4.913000e+03  6.400000e+01   1.000000e+00   2.000000e+00\n",
       "25%    3.584965e+07  1.014130e+08   1.000000e+00   3.721000e+03\n",
       "50%    7.292804e+07  2.021359e+08   1.000000e+00   6.209000e+03\n",
       "75%    1.073774e+08  3.035405e+08   1.000000e+00   1.029000e+04\n",
       "max    1.424559e+08  4.045625e+08   4.000000e+00   1.408000e+04"
      ]
     },
     "execution_count": 9,
     "metadata": {},
     "output_type": "execute_result"
    }
   ],
   "source": [
    "data.describe()"
   ]
  },
  {
   "cell_type": "code",
   "execution_count": 10,
   "id": "229e2691-6742-4963-b2bd-c3c71f70c749",
   "metadata": {
    "tags": []
   },
   "outputs": [
    {
     "data": {
      "text/plain": [
       "4092866"
      ]
     },
     "execution_count": 10,
     "metadata": {},
     "output_type": "execute_result"
    }
   ],
   "source": [
    "# 重复值查看\n",
    "data.duplicated().sum()"
   ]
  },
  {
   "cell_type": "code",
   "execution_count": 12,
   "id": "799f4979-410f-498c-bf40-82a90923d217",
   "metadata": {
    "tags": []
   },
   "outputs": [],
   "source": [
    "# 删除重复值\n",
    "data.drop_duplicates(inplace=True)"
   ]
  },
  {
   "cell_type": "code",
   "execution_count": 13,
   "id": "058bf455-0af7-48f7-9e2e-729507552b07",
   "metadata": {
    "tags": []
   },
   "outputs": [
    {
     "data": {
      "text/plain": [
       "(8164040, 6)"
      ]
     },
     "execution_count": 13,
     "metadata": {},
     "output_type": "execute_result"
    }
   ],
   "source": [
    "data.shape"
   ]
  },
  {
   "cell_type": "code",
   "execution_count": 14,
   "id": "b5117005-0607-4d4d-9ece-eb0ad1a1e150",
   "metadata": {
    "tags": []
   },
   "outputs": [
    {
     "data": {
      "text/plain": [
       "user_id          False\n",
       "item_id          False\n",
       "behavior_type    False\n",
       "user_geohash      True\n",
       "item_category    False\n",
       "time             False\n",
       "dtype: bool"
      ]
     },
     "execution_count": 14,
     "metadata": {},
     "output_type": "execute_result"
    }
   ],
   "source": [
    "# 空值查看\n",
    "data.isna().any()"
   ]
  },
  {
   "cell_type": "code",
   "execution_count": 16,
   "id": "5afb84ad-e61e-4b31-af5f-279fd2267412",
   "metadata": {
    "tags": []
   },
   "outputs": [
    {
     "data": {
      "text/plain": [
       "user_id                0\n",
       "item_id                0\n",
       "behavior_type          0\n",
       "user_geohash     4308015\n",
       "item_category          0\n",
       "time                   0\n",
       "dtype: int64"
      ]
     },
     "execution_count": 16,
     "metadata": {},
     "output_type": "execute_result"
    }
   ],
   "source": [
    "data.isna().sum()"
   ]
  },
  {
   "cell_type": "code",
   "execution_count": 17,
   "id": "322bd18a-8495-4797-a306-7f9b9933dad2",
   "metadata": {
    "tags": []
   },
   "outputs": [],
   "source": [
    "# 删除无意义字段\n",
    "data.drop('user_geohash',axis=1, inplace=True)"
   ]
  },
  {
   "cell_type": "code",
   "execution_count": 18,
   "id": "fb77faac-e700-40d9-89b0-972849552a4a",
   "metadata": {
    "tags": []
   },
   "outputs": [
    {
     "name": "stdout",
     "output_type": "stream",
     "text": [
      "<class 'pandas.core.frame.DataFrame'>\n",
      "Index: 8164040 entries, 0 to 12256904\n",
      "Data columns (total 5 columns):\n",
      " #   Column         Dtype \n",
      "---  ------         ----- \n",
      " 0   user_id        int64 \n",
      " 1   item_id        int64 \n",
      " 2   behavior_type  int64 \n",
      " 3   item_category  int64 \n",
      " 4   time           object\n",
      "dtypes: int64(4), object(1)\n",
      "memory usage: 631.7+ MB\n"
     ]
    }
   ],
   "source": [
    "data.info()"
   ]
  },
  {
   "cell_type": "code",
   "execution_count": 19,
   "id": "da20d0bc-fdfe-4cca-9ada-9a44b61e2ae5",
   "metadata": {
    "tags": []
   },
   "outputs": [],
   "source": [
    "# 索引重置\n",
    "data.reset_index(drop=True, inplace=True)"
   ]
  },
  {
   "cell_type": "code",
   "execution_count": 20,
   "id": "d6a8e70d-fb17-4555-bbf2-9d75620477f5",
   "metadata": {
    "tags": []
   },
   "outputs": [
    {
     "data": {
      "text/html": [
       "<div>\n",
       "<style scoped>\n",
       "    .dataframe tbody tr th:only-of-type {\n",
       "        vertical-align: middle;\n",
       "    }\n",
       "\n",
       "    .dataframe tbody tr th {\n",
       "        vertical-align: top;\n",
       "    }\n",
       "\n",
       "    .dataframe thead th {\n",
       "        text-align: right;\n",
       "    }\n",
       "</style>\n",
       "<table border=\"1\" class=\"dataframe\">\n",
       "  <thead>\n",
       "    <tr style=\"text-align: right;\">\n",
       "      <th></th>\n",
       "      <th>user_id</th>\n",
       "      <th>item_id</th>\n",
       "      <th>behavior_type</th>\n",
       "      <th>item_category</th>\n",
       "      <th>time</th>\n",
       "    </tr>\n",
       "  </thead>\n",
       "  <tbody>\n",
       "    <tr>\n",
       "      <th>0</th>\n",
       "      <td>98047837</td>\n",
       "      <td>232431562</td>\n",
       "      <td>1</td>\n",
       "      <td>4245</td>\n",
       "      <td>2014-12-06 02</td>\n",
       "    </tr>\n",
       "    <tr>\n",
       "      <th>1</th>\n",
       "      <td>97726136</td>\n",
       "      <td>383583590</td>\n",
       "      <td>1</td>\n",
       "      <td>5894</td>\n",
       "      <td>2014-12-09 20</td>\n",
       "    </tr>\n",
       "    <tr>\n",
       "      <th>2</th>\n",
       "      <td>98607707</td>\n",
       "      <td>64749712</td>\n",
       "      <td>1</td>\n",
       "      <td>2883</td>\n",
       "      <td>2014-12-18 11</td>\n",
       "    </tr>\n",
       "    <tr>\n",
       "      <th>3</th>\n",
       "      <td>98662432</td>\n",
       "      <td>320593836</td>\n",
       "      <td>1</td>\n",
       "      <td>6562</td>\n",
       "      <td>2014-12-06 10</td>\n",
       "    </tr>\n",
       "    <tr>\n",
       "      <th>4</th>\n",
       "      <td>98145908</td>\n",
       "      <td>290208520</td>\n",
       "      <td>1</td>\n",
       "      <td>13926</td>\n",
       "      <td>2014-12-16 21</td>\n",
       "    </tr>\n",
       "  </tbody>\n",
       "</table>\n",
       "</div>"
      ],
      "text/plain": [
       "    user_id    item_id  behavior_type  item_category           time\n",
       "0  98047837  232431562              1           4245  2014-12-06 02\n",
       "1  97726136  383583590              1           5894  2014-12-09 20\n",
       "2  98607707   64749712              1           2883  2014-12-18 11\n",
       "3  98662432  320593836              1           6562  2014-12-06 10\n",
       "4  98145908  290208520              1          13926  2014-12-16 21"
      ]
     },
     "execution_count": 20,
     "metadata": {},
     "output_type": "execute_result"
    }
   ],
   "source": [
    "data.head()"
   ]
  },
  {
   "cell_type": "code",
   "execution_count": 24,
   "id": "933a9f1e-669b-4dcc-9472-32a1d7f03712",
   "metadata": {
    "tags": []
   },
   "outputs": [
    {
     "data": {
      "text/html": [
       "<div>\n",
       "<style scoped>\n",
       "    .dataframe tbody tr th:only-of-type {\n",
       "        vertical-align: middle;\n",
       "    }\n",
       "\n",
       "    .dataframe tbody tr th {\n",
       "        vertical-align: top;\n",
       "    }\n",
       "\n",
       "    .dataframe thead th {\n",
       "        text-align: right;\n",
       "    }\n",
       "</style>\n",
       "<table border=\"1\" class=\"dataframe\">\n",
       "  <thead>\n",
       "    <tr style=\"text-align: right;\">\n",
       "      <th></th>\n",
       "      <th>user_id</th>\n",
       "      <th>item_id</th>\n",
       "      <th>behavior_type</th>\n",
       "      <th>item_category</th>\n",
       "      <th>time</th>\n",
       "      <th>date</th>\n",
       "      <th>hour</th>\n",
       "    </tr>\n",
       "  </thead>\n",
       "  <tbody>\n",
       "    <tr>\n",
       "      <th>0</th>\n",
       "      <td>98047837</td>\n",
       "      <td>232431562</td>\n",
       "      <td>1</td>\n",
       "      <td>4245</td>\n",
       "      <td>2014-12-06 02:00:00</td>\n",
       "      <td>2014-12-06</td>\n",
       "      <td>2</td>\n",
       "    </tr>\n",
       "    <tr>\n",
       "      <th>1</th>\n",
       "      <td>97726136</td>\n",
       "      <td>383583590</td>\n",
       "      <td>1</td>\n",
       "      <td>5894</td>\n",
       "      <td>2014-12-09 20:00:00</td>\n",
       "      <td>2014-12-09</td>\n",
       "      <td>20</td>\n",
       "    </tr>\n",
       "    <tr>\n",
       "      <th>2</th>\n",
       "      <td>98607707</td>\n",
       "      <td>64749712</td>\n",
       "      <td>1</td>\n",
       "      <td>2883</td>\n",
       "      <td>2014-12-18 11:00:00</td>\n",
       "      <td>2014-12-18</td>\n",
       "      <td>11</td>\n",
       "    </tr>\n",
       "    <tr>\n",
       "      <th>3</th>\n",
       "      <td>98662432</td>\n",
       "      <td>320593836</td>\n",
       "      <td>1</td>\n",
       "      <td>6562</td>\n",
       "      <td>2014-12-06 10:00:00</td>\n",
       "      <td>2014-12-06</td>\n",
       "      <td>10</td>\n",
       "    </tr>\n",
       "    <tr>\n",
       "      <th>4</th>\n",
       "      <td>98145908</td>\n",
       "      <td>290208520</td>\n",
       "      <td>1</td>\n",
       "      <td>13926</td>\n",
       "      <td>2014-12-16 21:00:00</td>\n",
       "      <td>2014-12-16</td>\n",
       "      <td>21</td>\n",
       "    </tr>\n",
       "  </tbody>\n",
       "</table>\n",
       "</div>"
      ],
      "text/plain": [
       "    user_id    item_id  behavior_type  item_category                time  \\\n",
       "0  98047837  232431562              1           4245 2014-12-06 02:00:00   \n",
       "1  97726136  383583590              1           5894 2014-12-09 20:00:00   \n",
       "2  98607707   64749712              1           2883 2014-12-18 11:00:00   \n",
       "3  98662432  320593836              1           6562 2014-12-06 10:00:00   \n",
       "4  98145908  290208520              1          13926 2014-12-16 21:00:00   \n",
       "\n",
       "        date  hour  \n",
       "0 2014-12-06     2  \n",
       "1 2014-12-09    20  \n",
       "2 2014-12-18    11  \n",
       "3 2014-12-06    10  \n",
       "4 2014-12-16    21  "
      ]
     },
     "execution_count": 24,
     "metadata": {},
     "output_type": "execute_result"
    }
   ],
   "source": [
    "# time列拆分\n",
    "data.time = pd.to_datetime(data.time)\n",
    "data['date'] = data['time'].dt.date\n",
    "data['date'] = pd.to_datetime(data['date'])\n",
    "data['hour'] = data['time'].dt.hour\n",
    "data.head()"
   ]
  },
  {
   "cell_type": "code",
   "execution_count": 27,
   "id": "7a4b6893-eb66-4997-8c14-d32565cb6c23",
   "metadata": {
    "tags": []
   },
   "outputs": [
    {
     "name": "stdout",
     "output_type": "stream",
     "text": [
      "<class 'pandas.core.frame.DataFrame'>\n",
      "RangeIndex: 8164040 entries, 0 to 8164039\n",
      "Data columns (total 7 columns):\n",
      " #   Column         Dtype         \n",
      "---  ------         -----         \n",
      " 0   user_id        int64         \n",
      " 1   item_id        object        \n",
      " 2   behavior_type  int64         \n",
      " 3   item_category  object        \n",
      " 4   time           datetime64[ns]\n",
      " 5   date           datetime64[ns]\n",
      " 6   hour           int32         \n",
      "dtypes: datetime64[ns](2), int32(1), int64(2), object(2)\n",
      "memory usage: 404.9+ MB\n"
     ]
    }
   ],
   "source": [
    "data.info()"
   ]
  },
  {
   "cell_type": "code",
   "execution_count": 26,
   "id": "d8629d65-2063-4547-a646-ed7b5f52afa2",
   "metadata": {
    "tags": []
   },
   "outputs": [],
   "source": [
    "#将item_id和item_category转换成str\n",
    "data.item_id = data.item_id.astype(str)\n",
    "data.item_category = data.item_category.astype(str)"
   ]
  },
  {
   "cell_type": "code",
   "execution_count": 28,
   "id": "2ecb81de-c59f-4581-b91f-9babac71074a",
   "metadata": {
    "tags": []
   },
   "outputs": [],
   "source": [
    "data.drop(labels='time',axis=1,inplace=True)"
   ]
  },
  {
   "cell_type": "markdown",
   "id": "411e7dd0-7e17-4727-a897-4186f854f91c",
   "metadata": {},
   "source": [
    "# 数据分析 & 可视化"
   ]
  },
  {
   "cell_type": "markdown",
   "id": "044b265c-c8c9-41e7-bb1b-9ffc828bedbb",
   "metadata": {},
   "source": [
    "## 用户行为分析"
   ]
  },
  {
   "cell_type": "code",
   "execution_count": 29,
   "id": "cdb079fa-c37d-48c3-af48-87fd074c9b3f",
   "metadata": {
    "tags": []
   },
   "outputs": [
    {
     "data": {
      "text/plain": [
       "date\n",
       "2014-11-18    235493\n",
       "2014-11-19    233144\n",
       "2014-11-20    226523\n",
       "2014-11-21    213894\n",
       "2014-11-22    232994\n",
       "Name: user_id, dtype: int64"
      ]
     },
     "execution_count": 29,
     "metadata": {},
     "output_type": "execute_result"
    }
   ],
   "source": [
    "#日访问量\n",
    "pv_daily_s = data.groupby(by='date')['user_id'].count()\n",
    "pv_daily_s.head()"
   ]
  },
  {
   "cell_type": "code",
   "execution_count": 30,
   "id": "f70f7c05-835f-45d4-83ac-beb75ac26a4d",
   "metadata": {
    "tags": []
   },
   "outputs": [
    {
     "data": {
      "text/plain": [
       "date\n",
       "2014-11-18    6343\n",
       "2014-11-19    6420\n",
       "2014-11-20    6333\n",
       "2014-11-21    6276\n",
       "2014-11-22    6187\n",
       "Name: user_id, dtype: int64"
      ]
     },
     "execution_count": 30,
     "metadata": {},
     "output_type": "execute_result"
    }
   ],
   "source": [
    "#日独立访客量\n",
    "uv_daily_s = data.groupby(by='date')['user_id'].nunique()\n",
    "uv_daily_s.head()"
   ]
  },
  {
   "cell_type": "code",
   "execution_count": 31,
   "id": "0fa09554-f9b1-4baa-82b3-68815a586faa",
   "metadata": {
    "tags": []
   },
   "outputs": [
    {
     "data": {
      "text/plain": [
       "date\n",
       "2014-11-18    37.126439\n",
       "2014-11-19    36.315265\n",
       "2014-11-20    35.768672\n",
       "2014-11-21    34.081262\n",
       "2014-11-22    37.658639\n",
       "Name: user_id, dtype: float64"
      ]
     },
     "execution_count": 31,
     "metadata": {},
     "output_type": "execute_result"
    }
   ],
   "source": [
    "#人均访问量（日访问量/日独立访客量）\n",
    "uv_pv_s = pv_daily_s / uv_daily_s\n",
    "uv_pv_s.head()"
   ]
  },
  {
   "cell_type": "code",
   "execution_count": 32,
   "id": "2f7249af-32c1-4d10-8f89-b914d3bf5600",
   "metadata": {
    "tags": []
   },
   "outputs": [
    {
     "data": {
      "text/html": [
       "<div>\n",
       "<style scoped>\n",
       "    .dataframe tbody tr th:only-of-type {\n",
       "        vertical-align: middle;\n",
       "    }\n",
       "\n",
       "    .dataframe tbody tr th {\n",
       "        vertical-align: top;\n",
       "    }\n",
       "\n",
       "    .dataframe thead th {\n",
       "        text-align: right;\n",
       "    }\n",
       "</style>\n",
       "<table border=\"1\" class=\"dataframe\">\n",
       "  <thead>\n",
       "    <tr style=\"text-align: right;\">\n",
       "      <th></th>\n",
       "      <th>pv</th>\n",
       "      <th>uv</th>\n",
       "      <th>pv/uv</th>\n",
       "    </tr>\n",
       "    <tr>\n",
       "      <th>date</th>\n",
       "      <th></th>\n",
       "      <th></th>\n",
       "      <th></th>\n",
       "    </tr>\n",
       "  </thead>\n",
       "  <tbody>\n",
       "    <tr>\n",
       "      <th>2014-11-18</th>\n",
       "      <td>235493</td>\n",
       "      <td>6343</td>\n",
       "      <td>37.126439</td>\n",
       "    </tr>\n",
       "    <tr>\n",
       "      <th>2014-11-19</th>\n",
       "      <td>233144</td>\n",
       "      <td>6420</td>\n",
       "      <td>36.315265</td>\n",
       "    </tr>\n",
       "    <tr>\n",
       "      <th>2014-11-20</th>\n",
       "      <td>226523</td>\n",
       "      <td>6333</td>\n",
       "      <td>35.768672</td>\n",
       "    </tr>\n",
       "    <tr>\n",
       "      <th>2014-11-21</th>\n",
       "      <td>213894</td>\n",
       "      <td>6276</td>\n",
       "      <td>34.081262</td>\n",
       "    </tr>\n",
       "    <tr>\n",
       "      <th>2014-11-22</th>\n",
       "      <td>232994</td>\n",
       "      <td>6187</td>\n",
       "      <td>37.658639</td>\n",
       "    </tr>\n",
       "  </tbody>\n",
       "</table>\n",
       "</div>"
      ],
      "text/plain": [
       "                pv    uv      pv/uv\n",
       "date                               \n",
       "2014-11-18  235493  6343  37.126439\n",
       "2014-11-19  233144  6420  36.315265\n",
       "2014-11-20  226523  6333  35.768672\n",
       "2014-11-21  213894  6276  34.081262\n",
       "2014-11-22  232994  6187  37.658639"
      ]
     },
     "execution_count": 32,
     "metadata": {},
     "output_type": "execute_result"
    }
   ],
   "source": [
    "# merge\n",
    "df = pd.concat((pv_daily_s,uv_daily_s,uv_pv_s),axis=1)\n",
    "df.columns = ['pv','uv','pv/uv']\n",
    "df.head()"
   ]
  },
  {
   "cell_type": "code",
   "execution_count": 38,
   "id": "d3a3daa1-5663-478a-8d4b-7f066e327b7a",
   "metadata": {
    "tags": []
   },
   "outputs": [
    {
     "data": {
      "image/png": "[encoded data removed]",
      "text/plain": [
       "<Figure size 640x480 with 1 Axes>"
      ]
     },
     "metadata": {},
     "output_type": "display_data"
    }
   ],
   "source": [
    "plt.plot(df.index,df.pv)\n",
    "_ = plt.title('pv')\n",
    "_ = plt.xticks(rotation=30)"
   ]
  },
  {
   "cell_type": "code",
   "execution_count": 37,
   "id": "311f10df-a15b-423c-b862-553eae2b8860",
   "metadata": {
    "tags": []
   },
   "outputs": [
    {
     "data": {
      "image/png": "[encoded data removed]",
      "text/plain": [
       "<Figure size 640x480 with 1 Axes>"
      ]
     },
     "metadata": {},
     "output_type": "display_data"
    }
   ],
   "source": [
    "plt.plot(df.index,df.uv)\n",
    "_ = plt.title('uv')\n",
    "_ = plt.xticks(rotation=30)"
   ]
  },
  {
   "cell_type": "code",
   "execution_count": 39,
   "id": "6125d595-3ff6-48c8-a842-90ff85198a4a",
   "metadata": {
    "tags": []
   },
   "outputs": [
    {
     "data": {
      "image/png": "[encoded data removed]",
      "text/plain": [
       "<Figure size 640x480 with 1 Axes>"
      ]
     },
     "metadata": {},
     "output_type": "display_data"
    }
   ],
   "source": [
    "plt.plot(df.index,df['pv/uv'])\n",
    "_ = plt.title('pv/uv')\n",
    "_ = plt.xticks(rotation=30)"
   ]
  },
  {
   "cell_type": "markdown",
   "id": "0aeddebe-89a0-4089-b80f-c168bc7f9d05",
   "metadata": {},
   "source": [
    "- 结论：在12月5日之前，活跃度在一定水平上波动。12月5日后，活跃度开始明显上升，并在双十二当天达到峰值。\n",
    "- 可能原因：12月5日之后双十二预热活动开始，用户活跃度上升。"
   ]
  },
  {
   "cell_type": "markdown",
   "id": "1ced5afc-6ce9-46e1-a0cb-775f549dd1b4",
   "metadata": {},
   "source": [
    "## 1212当天活跃度"
   ]
  },
  {
   "cell_type": "code",
   "execution_count": 40,
   "id": "f475eae1-5766-430f-ae66-42d61cec0a8b",
   "metadata": {
    "tags": []
   },
   "outputs": [],
   "source": [
    "#取出双12当天的数据\n",
    "data_1212 = data.loc[data['date']=='2014-12-12']"
   ]
  },
  {
   "cell_type": "code",
   "execution_count": 41,
   "id": "60bfd1b1-7d40-4bd6-9824-257af469f598",
   "metadata": {
    "tags": []
   },
   "outputs": [],
   "source": [
    "#查看双12当天每小时的访问量\n",
    "pv_hour_s = data_1212.groupby(by='hour')['user_id'].count()\n",
    "#查看双12当天每小时的访客量\n",
    "uv_hour_s = data_1212.groupby(by='hour')['user_id'].nunique()\n",
    "#查看双12当天每小时的人均访问量\n",
    "pv_uv_s = pv_hour_s / uv_hour_s"
   ]
  },
  {
   "cell_type": "code",
   "execution_count": 42,
   "id": "0154f8a1-5ae6-4d08-8a66-58db44a38bb0",
   "metadata": {
    "tags": []
   },
   "outputs": [
    {
     "data": {
      "text/html": [
       "<div>\n",
       "<style scoped>\n",
       "    .dataframe tbody tr th:only-of-type {\n",
       "        vertical-align: middle;\n",
       "    }\n",
       "\n",
       "    .dataframe tbody tr th {\n",
       "        vertical-align: top;\n",
       "    }\n",
       "\n",
       "    .dataframe thead th {\n",
       "        text-align: right;\n",
       "    }\n",
       "</style>\n",
       "<table border=\"1\" class=\"dataframe\">\n",
       "  <thead>\n",
       "    <tr style=\"text-align: right;\">\n",
       "      <th></th>\n",
       "      <th>pv_hour</th>\n",
       "      <th>uv_hour</th>\n",
       "      <th>pv/uv</th>\n",
       "    </tr>\n",
       "    <tr>\n",
       "      <th>hour</th>\n",
       "      <th></th>\n",
       "      <th></th>\n",
       "      <th></th>\n",
       "    </tr>\n",
       "  </thead>\n",
       "  <tbody>\n",
       "    <tr>\n",
       "      <th>0</th>\n",
       "      <td>25075</td>\n",
       "      <td>1569</td>\n",
       "      <td>15.981517</td>\n",
       "    </tr>\n",
       "    <tr>\n",
       "      <th>1</th>\n",
       "      <td>11388</td>\n",
       "      <td>811</td>\n",
       "      <td>14.041924</td>\n",
       "    </tr>\n",
       "    <tr>\n",
       "      <th>2</th>\n",
       "      <td>5956</td>\n",
       "      <td>411</td>\n",
       "      <td>14.491484</td>\n",
       "    </tr>\n",
       "    <tr>\n",
       "      <th>3</th>\n",
       "      <td>3177</td>\n",
       "      <td>255</td>\n",
       "      <td>12.458824</td>\n",
       "    </tr>\n",
       "    <tr>\n",
       "      <th>4</th>\n",
       "      <td>2567</td>\n",
       "      <td>211</td>\n",
       "      <td>12.165877</td>\n",
       "    </tr>\n",
       "  </tbody>\n",
       "</table>\n",
       "</div>"
      ],
      "text/plain": [
       "      pv_hour  uv_hour      pv/uv\n",
       "hour                             \n",
       "0       25075     1569  15.981517\n",
       "1       11388      811  14.041924\n",
       "2        5956      411  14.491484\n",
       "3        3177      255  12.458824\n",
       "4        2567      211  12.165877"
      ]
     },
     "execution_count": 42,
     "metadata": {},
     "output_type": "execute_result"
    }
   ],
   "source": [
    "# merge\n",
    "df = pd.concat((pv_hour_s,uv_hour_s,pv_uv_s),axis=1)\n",
    "df.columns = ['pv_hour','uv_hour','pv/uv']\n",
    "df.head()"
   ]
  },
  {
   "cell_type": "code",
   "execution_count": 43,
   "id": "5d1fb438-de5d-4d16-bbef-4142f5998078",
   "metadata": {
    "tags": []
   },
   "outputs": [
    {
     "data": {
      "image/png": "[encoded data removed]",
      "text/plain": [
       "<Figure size 640x480 with 1 Axes>"
      ]
     },
     "metadata": {},
     "output_type": "display_data"
    }
   ],
   "source": [
    "plt.plot(df.index,df.pv_hour)\n",
    "a = plt.title('pv')"
   ]
  },
  {
   "cell_type": "code",
   "execution_count": 44,
   "id": "1d744ec5-fd05-46d4-9260-de0a263aa3cb",
   "metadata": {
    "tags": []
   },
   "outputs": [
    {
     "data": {
      "image/png": "[encoded data removed]",
      "text/plain": [
       "<Figure size 640x480 with 1 Axes>"
      ]
     },
     "metadata": {},
     "output_type": "display_data"
    }
   ],
   "source": [
    "plt.plot(df.index,df.uv_hour)\n",
    "a = plt.title('uv')"
   ]
  },
  {
   "cell_type": "code",
   "execution_count": 45,
   "id": "9d7e0199-d700-4113-bf01-c0ed78dcc9a1",
   "metadata": {
    "tags": []
   },
   "outputs": [
    {
     "data": {
      "image/png": "[encoded data removed]",
      "text/plain": [
       "<Figure size 640x480 with 1 Axes>"
      ]
     },
     "metadata": {},
     "output_type": "display_data"
    }
   ],
   "source": [
    "plt.plot(df.index,df['pv/uv'])\n",
    "a = plt.title('pv/uv')"
   ]
  },
  {
   "cell_type": "markdown",
   "id": "91a990e2-4bd0-4c18-98d8-e5d62ef1bb5a",
   "metadata": {},
   "source": [
    "- 结论：双十二当天0点和18点之后淘宝用户活跃度较高，6点跌至最低点。\n",
    "- 建议：商家可以在18点后设置优惠券或采取其他促销手段，吸引更多人消费，提高购买率。"
   ]
  },
  {
   "cell_type": "markdown",
   "id": "af92645b-4288-4b65-b3ad-39c353e7b848",
   "metadata": {},
   "source": [
    "## 用户行为分析"
   ]
  },
  {
   "cell_type": "code",
   "execution_count": 46,
   "id": "300d4e1e-1b39-4e07-a304-f36767cc8820",
   "metadata": {
    "tags": []
   },
   "outputs": [
    {
     "data": {
      "text/html": [
       "<div>\n",
       "<style scoped>\n",
       "    .dataframe tbody tr th:only-of-type {\n",
       "        vertical-align: middle;\n",
       "    }\n",
       "\n",
       "    .dataframe tbody tr th {\n",
       "        vertical-align: top;\n",
       "    }\n",
       "\n",
       "    .dataframe thead th {\n",
       "        text-align: right;\n",
       "    }\n",
       "</style>\n",
       "<table border=\"1\" class=\"dataframe\">\n",
       "  <thead>\n",
       "    <tr style=\"text-align: right;\">\n",
       "      <th></th>\n",
       "      <th>behavior_type</th>\n",
       "      <th>hour</th>\n",
       "      <th>item_category</th>\n",
       "      <th>item_id</th>\n",
       "      <th>user_id</th>\n",
       "    </tr>\n",
       "    <tr>\n",
       "      <th>date</th>\n",
       "      <th></th>\n",
       "      <th></th>\n",
       "      <th></th>\n",
       "      <th></th>\n",
       "      <th></th>\n",
       "    </tr>\n",
       "  </thead>\n",
       "  <tbody>\n",
       "    <tr>\n",
       "      <th>2014-11-18</th>\n",
       "      <td>235493</td>\n",
       "      <td>235493</td>\n",
       "      <td>235493</td>\n",
       "      <td>235493</td>\n",
       "      <td>235493</td>\n",
       "    </tr>\n",
       "    <tr>\n",
       "      <th>2014-11-19</th>\n",
       "      <td>233144</td>\n",
       "      <td>233144</td>\n",
       "      <td>233144</td>\n",
       "      <td>233144</td>\n",
       "      <td>233144</td>\n",
       "    </tr>\n",
       "  </tbody>\n",
       "</table>\n",
       "</div>"
      ],
      "text/plain": [
       "            behavior_type    hour  item_category  item_id  user_id\n",
       "date                                                              \n",
       "2014-11-18         235493  235493         235493   235493   235493\n",
       "2014-11-19         233144  233144         233144   233144   233144"
      ]
     },
     "execution_count": 46,
     "metadata": {},
     "output_type": "execute_result"
    }
   ],
   "source": [
    "data.pivot_table(index='date',aggfunc='count').head(2)"
   ]
  },
  {
   "cell_type": "code",
   "execution_count": 47,
   "id": "eda3ec1d-c265-41f8-85c3-5af4ef5b38cc",
   "metadata": {
    "tags": []
   },
   "outputs": [
    {
     "data": {
      "text/plain": [
       "date\n",
       "2014-11-18    235493\n",
       "2014-11-19    233144\n",
       "dtype: int64"
      ]
     },
     "execution_count": 47,
     "metadata": {},
     "output_type": "execute_result"
    }
   ],
   "source": [
    "data.pivot_table(index='date',aggfunc='size').head(2)"
   ]
  },
  {
   "cell_type": "code",
   "execution_count": 48,
   "id": "351dc0d1-b8b5-4479-a48a-989402f09e92",
   "metadata": {
    "tags": []
   },
   "outputs": [
    {
     "data": {
      "text/html": [
       "<div>\n",
       "<style scoped>\n",
       "    .dataframe tbody tr th:only-of-type {\n",
       "        vertical-align: middle;\n",
       "    }\n",
       "\n",
       "    .dataframe tbody tr th {\n",
       "        vertical-align: top;\n",
       "    }\n",
       "\n",
       "    .dataframe thead th {\n",
       "        text-align: right;\n",
       "    }\n",
       "</style>\n",
       "<table border=\"1\" class=\"dataframe\">\n",
       "  <thead>\n",
       "    <tr style=\"text-align: right;\">\n",
       "      <th>behavior_type</th>\n",
       "      <th>1</th>\n",
       "      <th>2</th>\n",
       "      <th>3</th>\n",
       "      <th>4</th>\n",
       "    </tr>\n",
       "    <tr>\n",
       "      <th>date</th>\n",
       "      <th></th>\n",
       "      <th></th>\n",
       "      <th></th>\n",
       "      <th></th>\n",
       "    </tr>\n",
       "  </thead>\n",
       "  <tbody>\n",
       "    <tr>\n",
       "      <th>2014-11-18</th>\n",
       "      <td>215480</td>\n",
       "      <td>6797</td>\n",
       "      <td>9800</td>\n",
       "      <td>3416</td>\n",
       "    </tr>\n",
       "    <tr>\n",
       "      <th>2014-11-19</th>\n",
       "      <td>213108</td>\n",
       "      <td>7079</td>\n",
       "      <td>9607</td>\n",
       "      <td>3350</td>\n",
       "    </tr>\n",
       "    <tr>\n",
       "      <th>2014-11-20</th>\n",
       "      <td>206740</td>\n",
       "      <td>7063</td>\n",
       "      <td>9552</td>\n",
       "      <td>3168</td>\n",
       "    </tr>\n",
       "    <tr>\n",
       "      <th>2014-11-21</th>\n",
       "      <td>196121</td>\n",
       "      <td>6722</td>\n",
       "      <td>8328</td>\n",
       "      <td>2723</td>\n",
       "    </tr>\n",
       "    <tr>\n",
       "      <th>2014-11-22</th>\n",
       "      <td>213292</td>\n",
       "      <td>7001</td>\n",
       "      <td>9493</td>\n",
       "      <td>3208</td>\n",
       "    </tr>\n",
       "  </tbody>\n",
       "</table>\n",
       "</div>"
      ],
      "text/plain": [
       "behavior_type       1     2     3     4\n",
       "date                                   \n",
       "2014-11-18     215480  6797  9800  3416\n",
       "2014-11-19     213108  7079  9607  3350\n",
       "2014-11-20     206740  7063  9552  3168\n",
       "2014-11-21     196121  6722  8328  2723\n",
       "2014-11-22     213292  7001  9493  3208"
      ]
     },
     "execution_count": 48,
     "metadata": {},
     "output_type": "execute_result"
    }
   ],
   "source": [
    "pv_df = data.pivot_table(index='date',columns='behavior_type',aggfunc='size',fill_value=0)\n",
    "pv_df.head()"
   ]
  },
  {
   "cell_type": "code",
   "execution_count": 50,
   "id": "601434fd-2175-4810-9000-1825578deb3a",
   "metadata": {
    "tags": []
   },
   "outputs": [],
   "source": [
    "plt.rcParams['font.sans-serif']=['SimHei'] \n",
    "plt.rcParams['axes.unicode_minus']=False \n",
    "import warnings\n",
    "warnings.filterwarnings('ignore')"
   ]
  },
  {
   "cell_type": "code",
   "execution_count": 51,
   "id": "bcb64539-7c9a-4dcf-a8ff-433e3e8b2585",
   "metadata": {
    "collapsed": true,
    "jupyter": {
     "outputs_hidden": true
    },
    "tags": []
   },
   "outputs": [
    {
     "data": {
      "text/plain": [
       "<matplotlib.legend.Legend at 0x3701096c0>"
      ]
     },
     "execution_count": 51,
     "metadata": {},
     "output_type": "execute_result"
    },
    {
     "name": "stderr",
     "output_type": "stream",
     "text": [
      "findfont: Generic family 'sans-serif' not found because none of the following families were found: SimHei\n",
      "findfont: Generic family 'sans-serif' not found because none of the following families were found: SimHei\n",
      "findfont: Generic family 'sans-serif' not found because none of the following families were found: SimHei\n",
      "findfont: Generic family 'sans-serif' not found because none of the following families were found: SimHei\n",
      "findfont: Generic family 'sans-serif' not found because none of the following families were found: SimHei\n",
      "findfont: Generic family 'sans-serif' not found because none of the following families were found: SimHei\n",
      "findfont: Generic family 'sans-serif' not found because none of the following families were found: SimHei\n",
      "findfont: Generic family 'sans-serif' not found because none of the following families were found: SimHei\n",
      "findfont: Generic family 'sans-serif' not found because none of the following families were found: SimHei\n",
      "findfont: Generic family 'sans-serif' not found because none of the following families were found: SimHei\n",
      "findfont: Generic family 'sans-serif' not found because none of the following families were found: SimHei\n",
      "findfont: Generic family 'sans-serif' not found because none of the following families were found: SimHei\n",
      "findfont: Generic family 'sans-serif' not found because none of the following families were found: SimHei\n",
      "findfont: Generic family 'sans-serif' not found because none of the following families were found: SimHei\n",
      "findfont: Generic family 'sans-serif' not found because none of the following families were found: SimHei\n",
      "findfont: Generic family 'sans-serif' not found because none of the following families were found: SimHei\n",
      "findfont: Generic family 'sans-serif' not found because none of the following families were found: SimHei\n",
      "findfont: Generic family 'sans-serif' not found because none of the following families were found: SimHei\n",
      "findfont: Generic family 'sans-serif' not found because none of the following families were found: SimHei\n",
      "findfont: Generic family 'sans-serif' not found because none of the following families were found: SimHei\n",
      "findfont: Generic family 'sans-serif' not found because none of the following families were found: SimHei\n",
      "findfont: Generic family 'sans-serif' not found because none of the following families were found: SimHei\n",
      "findfont: Generic family 'sans-serif' not found because none of the following families were found: SimHei\n",
      "findfont: Generic family 'sans-serif' not found because none of the following families were found: SimHei\n",
      "findfont: Generic family 'sans-serif' not found because none of the following families were found: SimHei\n",
      "findfont: Generic family 'sans-serif' not found because none of the following families were found: SimHei\n",
      "findfont: Generic family 'sans-serif' not found because none of the following families were found: SimHei\n",
      "findfont: Generic family 'sans-serif' not found because none of the following families were found: SimHei\n",
      "findfont: Generic family 'sans-serif' not found because none of the following families were found: SimHei\n",
      "findfont: Generic family 'sans-serif' not found because none of the following families were found: SimHei\n",
      "findfont: Generic family 'sans-serif' not found because none of the following families were found: SimHei\n",
      "findfont: Generic family 'sans-serif' not found because none of the following families were found: SimHei\n",
      "findfont: Generic family 'sans-serif' not found because none of the following families were found: SimHei\n",
      "findfont: Generic family 'sans-serif' not found because none of the following families were found: SimHei\n",
      "findfont: Generic family 'sans-serif' not found because none of the following families were found: SimHei\n",
      "findfont: Generic family 'sans-serif' not found because none of the following families were found: SimHei\n",
      "findfont: Generic family 'sans-serif' not found because none of the following families were found: SimHei\n",
      "findfont: Generic family 'sans-serif' not found because none of the following families were found: SimHei\n",
      "findfont: Generic family 'sans-serif' not found because none of the following families were found: SimHei\n",
      "findfont: Generic family 'sans-serif' not found because none of the following families were found: SimHei\n",
      "findfont: Generic family 'sans-serif' not found because none of the following families were found: SimHei\n",
      "findfont: Generic family 'sans-serif' not found because none of the following families were found: SimHei\n",
      "findfont: Generic family 'sans-serif' not found because none of the following families were found: SimHei\n",
      "findfont: Generic family 'sans-serif' not found because none of the following families were found: SimHei\n",
      "findfont: Generic family 'sans-serif' not found because none of the following families were found: SimHei\n",
      "findfont: Generic family 'sans-serif' not found because none of the following families were found: SimHei\n",
      "findfont: Generic family 'sans-serif' not found because none of the following families were found: SimHei\n",
      "findfont: Generic family 'sans-serif' not found because none of the following families were found: SimHei\n",
      "findfont: Generic family 'sans-serif' not found because none of the following families were found: SimHei\n",
      "findfont: Generic family 'sans-serif' not found because none of the following families were found: SimHei\n",
      "findfont: Generic family 'sans-serif' not found because none of the following families were found: SimHei\n",
      "findfont: Generic family 'sans-serif' not found because none of the following families were found: SimHei\n",
      "findfont: Generic family 'sans-serif' not found because none of the following families were found: SimHei\n",
      "findfont: Generic family 'sans-serif' not found because none of the following families were found: SimHei\n",
      "findfont: Generic family 'sans-serif' not found because none of the following families were found: SimHei\n",
      "findfont: Generic family 'sans-serif' not found because none of the following families were found: SimHei\n",
      "findfont: Generic family 'sans-serif' not found because none of the following families were found: SimHei\n",
      "findfont: Generic family 'sans-serif' not found because none of the following families were found: SimHei\n",
      "findfont: Generic family 'sans-serif' not found because none of the following families were found: SimHei\n",
      "findfont: Generic family 'sans-serif' not found because none of the following families were found: SimHei\n",
      "findfont: Generic family 'sans-serif' not found because none of the following families were found: SimHei\n",
      "findfont: Generic family 'sans-serif' not found because none of the following families were found: SimHei\n",
      "findfont: Generic family 'sans-serif' not found because none of the following families were found: SimHei\n",
      "findfont: Generic family 'sans-serif' not found because none of the following families were found: SimHei\n",
      "findfont: Generic family 'sans-serif' not found because none of the following families were found: SimHei\n",
      "findfont: Generic family 'sans-serif' not found because none of the following families were found: SimHei\n",
      "findfont: Generic family 'sans-serif' not found because none of the following families were found: SimHei\n",
      "findfont: Generic family 'sans-serif' not found because none of the following families were found: SimHei\n",
      "findfont: Generic family 'sans-serif' not found because none of the following families were found: SimHei\n",
      "findfont: Generic family 'sans-serif' not found because none of the following families were found: SimHei\n",
      "findfont: Generic family 'sans-serif' not found because none of the following families were found: SimHei\n",
      "findfont: Generic family 'sans-serif' not found because none of the following families were found: SimHei\n",
      "findfont: Generic family 'sans-serif' not found because none of the following families were found: SimHei\n",
      "findfont: Generic family 'sans-serif' not found because none of the following families were found: SimHei\n",
      "findfont: Generic family 'sans-serif' not found because none of the following families were found: SimHei\n",
      "findfont: Generic family 'sans-serif' not found because none of the following families were found: SimHei\n",
      "findfont: Generic family 'sans-serif' not found because none of the following families were found: SimHei\n",
      "findfont: Generic family 'sans-serif' not found because none of the following families were found: SimHei\n",
      "findfont: Generic family 'sans-serif' not found because none of the following families were found: SimHei\n",
      "findfont: Generic family 'sans-serif' not found because none of the following families were found: SimHei\n",
      "findfont: Generic family 'sans-serif' not found because none of the following families were found: SimHei\n",
      "findfont: Generic family 'sans-serif' not found because none of the following families were found: SimHei\n",
      "findfont: Generic family 'sans-serif' not found because none of the following families were found: SimHei\n",
      "findfont: Generic family 'sans-serif' not found because none of the following families were found: SimHei\n",
      "findfont: Generic family 'sans-serif' not found because none of the following families were found: SimHei\n",
      "findfont: Generic family 'sans-serif' not found because none of the following families were found: SimHei\n",
      "findfont: Generic family 'sans-serif' not found because none of the following families were found: SimHei\n",
      "findfont: Generic family 'sans-serif' not found because none of the following families were found: SimHei\n",
      "findfont: Generic family 'sans-serif' not found because none of the following families were found: SimHei\n",
      "findfont: Generic family 'sans-serif' not found because none of the following families were found: SimHei\n",
      "findfont: Generic family 'sans-serif' not found because none of the following families were found: SimHei\n",
      "findfont: Generic family 'sans-serif' not found because none of the following families were found: SimHei\n",
      "findfont: Generic family 'sans-serif' not found because none of the following families were found: SimHei\n",
      "findfont: Generic family 'sans-serif' not found because none of the following families were found: SimHei\n",
      "findfont: Generic family 'sans-serif' not found because none of the following families were found: SimHei\n",
      "findfont: Generic family 'sans-serif' not found because none of the following families were found: SimHei\n",
      "findfont: Generic family 'sans-serif' not found because none of the following families were found: SimHei\n",
      "findfont: Generic family 'sans-serif' not found because none of the following families were found: SimHei\n",
      "findfont: Generic family 'sans-serif' not found because none of the following families were found: SimHei\n",
      "findfont: Generic family 'sans-serif' not found because none of the following families were found: SimHei\n",
      "findfont: Generic family 'sans-serif' not found because none of the following families were found: SimHei\n",
      "findfont: Generic family 'sans-serif' not found because none of the following families were found: SimHei\n",
      "findfont: Generic family 'sans-serif' not found because none of the following families were found: SimHei\n",
      "findfont: Generic family 'sans-serif' not found because none of the following families were found: SimHei\n",
      "findfont: Generic family 'sans-serif' not found because none of the following families were found: SimHei\n",
      "findfont: Generic family 'sans-serif' not found because none of the following families were found: SimHei\n",
      "findfont: Generic family 'sans-serif' not found because none of the following families were found: SimHei\n",
      "findfont: Generic family 'sans-serif' not found because none of the following families were found: SimHei\n",
      "findfont: Generic family 'sans-serif' not found because none of the following families were found: SimHei\n",
      "findfont: Generic family 'sans-serif' not found because none of the following families were found: SimHei\n",
      "findfont: Generic family 'sans-serif' not found because none of the following families were found: SimHei\n",
      "findfont: Generic family 'sans-serif' not found because none of the following families were found: SimHei\n",
      "findfont: Generic family 'sans-serif' not found because none of the following families were found: SimHei\n",
      "findfont: Generic family 'sans-serif' not found because none of the following families were found: SimHei\n",
      "findfont: Generic family 'sans-serif' not found because none of the following families were found: SimHei\n",
      "findfont: Generic family 'sans-serif' not found because none of the following families were found: SimHei\n",
      "findfont: Generic family 'sans-serif' not found because none of the following families were found: SimHei\n",
      "findfont: Generic family 'sans-serif' not found because none of the following families were found: SimHei\n",
      "findfont: Generic family 'sans-serif' not found because none of the following families were found: SimHei\n",
      "findfont: Generic family 'sans-serif' not found because none of the following families were found: SimHei\n",
      "findfont: Generic family 'sans-serif' not found because none of the following families were found: SimHei\n",
      "findfont: Generic family 'sans-serif' not found because none of the following families were found: SimHei\n",
      "findfont: Generic family 'sans-serif' not found because none of the following families were found: SimHei\n",
      "findfont: Generic family 'sans-serif' not found because none of the following families were found: SimHei\n",
      "findfont: Generic family 'sans-serif' not found because none of the following families were found: SimHei\n",
      "findfont: Generic family 'sans-serif' not found because none of the following families were found: SimHei\n",
      "findfont: Generic family 'sans-serif' not found because none of the following families were found: SimHei\n",
      "findfont: Generic family 'sans-serif' not found because none of the following families were found: SimHei\n",
      "findfont: Generic family 'sans-serif' not found because none of the following families were found: SimHei\n",
      "findfont: Generic family 'sans-serif' not found because none of the following families were found: SimHei\n",
      "findfont: Generic family 'sans-serif' not found because none of the following families were found: SimHei\n",
      "findfont: Generic family 'sans-serif' not found because none of the following families were found: SimHei\n",
      "findfont: Generic family 'sans-serif' not found because none of the following families were found: SimHei\n",
      "findfont: Generic family 'sans-serif' not found because none of the following families were found: SimHei\n",
      "findfont: Generic family 'sans-serif' not found because none of the following families were found: SimHei\n",
      "findfont: Generic family 'sans-serif' not found because none of the following families were found: SimHei\n",
      "findfont: Generic family 'sans-serif' not found because none of the following families were found: SimHei\n",
      "findfont: Generic family 'sans-serif' not found because none of the following families were found: SimHei\n",
      "findfont: Generic family 'sans-serif' not found because none of the following families were found: SimHei\n",
      "findfont: Generic family 'sans-serif' not found because none of the following families were found: SimHei\n",
      "findfont: Generic family 'sans-serif' not found because none of the following families were found: SimHei\n",
      "findfont: Generic family 'sans-serif' not found because none of the following families were found: SimHei\n",
      "findfont: Generic family 'sans-serif' not found because none of the following families were found: SimHei\n",
      "findfont: Generic family 'sans-serif' not found because none of the following families were found: SimHei\n",
      "findfont: Generic family 'sans-serif' not found because none of the following families were found: SimHei\n",
      "findfont: Generic family 'sans-serif' not found because none of the following families were found: SimHei\n"
     ]
    },
    {
     "data": {
      "image/png": "[encoded data removed]",
      "text/plain": [
       "<Figure size 1200x800 with 1 Axes>"
      ]
     },
     "metadata": {},
     "output_type": "display_data"
    }
   ],
   "source": [
    "plt.figure(figsize=(12,8))\n",
    "plt.xticks(rotation=30)\n",
    "plt.plot(pv_df.index,pv_df[1],label='点击')\n",
    "plt.plot(pv_df.index,pv_df[2],label=\"收藏\")\n",
    "plt.plot(pv_df.index,pv_df[3],label='加购')\n",
    "plt.plot(pv_df.index,pv_df[4],label='支付')\n",
    "plt.legend()"
   ]
  },
  {
   "cell_type": "markdown",
   "id": "b377176e-847c-402e-9d9a-a4e0a1e9317a",
   "metadata": {
    "tags": []
   },
   "source": [
    "结论：\n",
    "- 点击、收藏、加购物车、支付这四种行为均在双十二当天达到顶峰。\n",
    "- 只观察支付和收藏，发现双十二当天支付量大于收藏量。\n",
    "- 支付量大于收藏量说明很多用户购买了目标之外的商品，可能是受到促销的影响冲动消费，又或者是为了凑单等。"
   ]
  },
  {
   "cell_type": "markdown",
   "id": "527ee0f3-efda-49cc-a613-b95e817b9ff8",
   "metadata": {},
   "source": [
    "## 留存率分析"
   ]
  },
  {
   "cell_type": "code",
   "execution_count": 53,
   "id": "084f7029-5c35-422d-b9b0-e41c4245de3c",
   "metadata": {
    "tags": []
   },
   "outputs": [
    {
     "data": {
      "text/html": [
       "<div>\n",
       "<style scoped>\n",
       "    .dataframe tbody tr th:only-of-type {\n",
       "        vertical-align: middle;\n",
       "    }\n",
       "\n",
       "    .dataframe tbody tr th {\n",
       "        vertical-align: top;\n",
       "    }\n",
       "\n",
       "    .dataframe thead th {\n",
       "        text-align: right;\n",
       "    }\n",
       "</style>\n",
       "<table border=\"1\" class=\"dataframe\">\n",
       "  <thead>\n",
       "    <tr style=\"text-align: right;\">\n",
       "      <th></th>\n",
       "      <th>用户行为</th>\n",
       "      <th>访问量</th>\n",
       "    </tr>\n",
       "  </thead>\n",
       "  <tbody>\n",
       "    <tr>\n",
       "      <th>0</th>\n",
       "      <td>点击</td>\n",
       "      <td>7479078</td>\n",
       "    </tr>\n",
       "    <tr>\n",
       "      <th>1</th>\n",
       "      <td>收藏</td>\n",
       "      <td>333371</td>\n",
       "    </tr>\n",
       "    <tr>\n",
       "      <th>2</th>\n",
       "      <td>加购物车</td>\n",
       "      <td>240919</td>\n",
       "    </tr>\n",
       "    <tr>\n",
       "      <th>3</th>\n",
       "      <td>支付</td>\n",
       "      <td>110672</td>\n",
       "    </tr>\n",
       "  </tbody>\n",
       "</table>\n",
       "</div>"
      ],
      "text/plain": [
       "   用户行为      访问量\n",
       "0    点击  7479078\n",
       "1    收藏   333371\n",
       "2  加购物车   240919\n",
       "3    支付   110672"
      ]
     },
     "execution_count": 53,
     "metadata": {},
     "output_type": "execute_result"
    }
   ],
   "source": [
    "#查看不同行为的访问量\n",
    "s = data['behavior_type'].value_counts()\n",
    "s.index = ['点击','收藏','加购物车','支付']\n",
    "df = pd.DataFrame([s.index,s]).T\n",
    "df.columns = ['用户行为','访问量']\n",
    "df"
   ]
  },
  {
   "cell_type": "code",
   "execution_count": 54,
   "id": "8eddee65-c33c-4847-a5e4-f9600f478343",
   "metadata": {
    "tags": []
   },
   "outputs": [
    {
     "data": {
      "text/plain": [
       "[100, 4.457380976639099, 72.26753376868413, 45.937431252827714]"
      ]
     },
     "execution_count": 54,
     "metadata": {},
     "output_type": "execute_result"
    }
   ],
   "source": [
    "#计算点击到收藏、收藏到加购，加购到支付的转化率\n",
    "temp1 = df['访问量'][1:].values\n",
    "temp2 = df['访问量'][0:-1].values\n",
    "p = temp1 / temp2 * 100\n",
    "p = list(p)\n",
    "p.insert(0,100)\n",
    "p"
   ]
  },
  {
   "cell_type": "code",
   "execution_count": 55,
   "id": "7e8636ec-8672-4814-bc3e-605ff1115589",
   "metadata": {
    "tags": []
   },
   "outputs": [
    {
     "data": {
      "text/html": [
       "<div>\n",
       "<style scoped>\n",
       "    .dataframe tbody tr th:only-of-type {\n",
       "        vertical-align: middle;\n",
       "    }\n",
       "\n",
       "    .dataframe tbody tr th {\n",
       "        vertical-align: top;\n",
       "    }\n",
       "\n",
       "    .dataframe thead th {\n",
       "        text-align: right;\n",
       "    }\n",
       "</style>\n",
       "<table border=\"1\" class=\"dataframe\">\n",
       "  <thead>\n",
       "    <tr style=\"text-align: right;\">\n",
       "      <th></th>\n",
       "      <th>用户行为</th>\n",
       "      <th>访问量</th>\n",
       "      <th>单一环节转化率(%)</th>\n",
       "    </tr>\n",
       "  </thead>\n",
       "  <tbody>\n",
       "    <tr>\n",
       "      <th>0</th>\n",
       "      <td>点击</td>\n",
       "      <td>7479078</td>\n",
       "      <td>100.000000</td>\n",
       "    </tr>\n",
       "    <tr>\n",
       "      <th>1</th>\n",
       "      <td>收藏</td>\n",
       "      <td>333371</td>\n",
       "      <td>4.457381</td>\n",
       "    </tr>\n",
       "    <tr>\n",
       "      <th>2</th>\n",
       "      <td>加购物车</td>\n",
       "      <td>240919</td>\n",
       "      <td>72.267534</td>\n",
       "    </tr>\n",
       "    <tr>\n",
       "      <th>3</th>\n",
       "      <td>支付</td>\n",
       "      <td>110672</td>\n",
       "      <td>45.937431</td>\n",
       "    </tr>\n",
       "  </tbody>\n",
       "</table>\n",
       "</div>"
      ],
      "text/plain": [
       "   用户行为      访问量  单一环节转化率(%)\n",
       "0    点击  7479078  100.000000\n",
       "1    收藏   333371    4.457381\n",
       "2  加购物车   240919   72.267534\n",
       "3    支付   110672   45.937431"
      ]
     },
     "execution_count": 55,
     "metadata": {},
     "output_type": "execute_result"
    }
   ],
   "source": [
    "df['单一环节转化率(%)'] = p\n",
    "df"
   ]
  },
  {
   "cell_type": "code",
   "execution_count": 56,
   "id": "4027a929-3297-4acd-80ec-4c4ee878427a",
   "metadata": {
    "tags": []
   },
   "outputs": [
    {
     "data": {
      "text/html": [
       "<div>\n",
       "<style scoped>\n",
       "    .dataframe tbody tr th:only-of-type {\n",
       "        vertical-align: middle;\n",
       "    }\n",
       "\n",
       "    .dataframe tbody tr th {\n",
       "        vertical-align: top;\n",
       "    }\n",
       "\n",
       "    .dataframe thead th {\n",
       "        text-align: right;\n",
       "    }\n",
       "</style>\n",
       "<table border=\"1\" class=\"dataframe\">\n",
       "  <thead>\n",
       "    <tr style=\"text-align: right;\">\n",
       "      <th></th>\n",
       "      <th>用户行为</th>\n",
       "      <th>访问量</th>\n",
       "      <th>单一环节转化率(%)</th>\n",
       "      <th>整体转化率(%)</th>\n",
       "    </tr>\n",
       "  </thead>\n",
       "  <tbody>\n",
       "    <tr>\n",
       "      <th>0</th>\n",
       "      <td>点击</td>\n",
       "      <td>7479078</td>\n",
       "      <td>100.000000</td>\n",
       "      <td>100.0</td>\n",
       "    </tr>\n",
       "    <tr>\n",
       "      <th>1</th>\n",
       "      <td>收藏</td>\n",
       "      <td>333371</td>\n",
       "      <td>4.457381</td>\n",
       "      <td>4.457381</td>\n",
       "    </tr>\n",
       "    <tr>\n",
       "      <th>2</th>\n",
       "      <td>加购物车</td>\n",
       "      <td>240919</td>\n",
       "      <td>72.267534</td>\n",
       "      <td>3.221239</td>\n",
       "    </tr>\n",
       "    <tr>\n",
       "      <th>3</th>\n",
       "      <td>支付</td>\n",
       "      <td>110672</td>\n",
       "      <td>45.937431</td>\n",
       "      <td>1.479755</td>\n",
       "    </tr>\n",
       "  </tbody>\n",
       "</table>\n",
       "</div>"
      ],
      "text/plain": [
       "   用户行为      访问量  单一环节转化率(%)  整体转化率(%)\n",
       "0    点击  7479078  100.000000     100.0\n",
       "1    收藏   333371    4.457381  4.457381\n",
       "2  加购物车   240919   72.267534  3.221239\n",
       "3    支付   110672   45.937431  1.479755"
      ]
     },
     "execution_count": 56,
     "metadata": {},
     "output_type": "execute_result"
    }
   ],
   "source": [
    "#计算整体转化率\n",
    "df['整体转化率(%)'] = df['访问量'] / df.iloc[0,1] * 100\n",
    "df"
   ]
  },
  {
   "cell_type": "code",
   "execution_count": 57,
   "id": "78c64804-4a35-4670-bb8b-02ed1d1ab18b",
   "metadata": {
    "tags": []
   },
   "outputs": [
    {
     "data": {
      "text/html": [
       "<div>\n",
       "<style scoped>\n",
       "    .dataframe tbody tr th:only-of-type {\n",
       "        vertical-align: middle;\n",
       "    }\n",
       "\n",
       "    .dataframe tbody tr th {\n",
       "        vertical-align: top;\n",
       "    }\n",
       "\n",
       "    .dataframe thead th {\n",
       "        text-align: right;\n",
       "    }\n",
       "</style>\n",
       "<table border=\"1\" class=\"dataframe\">\n",
       "  <thead>\n",
       "    <tr style=\"text-align: right;\">\n",
       "      <th></th>\n",
       "      <th>用户行为</th>\n",
       "      <th>访问量</th>\n",
       "      <th>单一环节转化率(%)</th>\n",
       "      <th>整体转化率(%)</th>\n",
       "      <th>每一环节流失率(%)</th>\n",
       "    </tr>\n",
       "  </thead>\n",
       "  <tbody>\n",
       "    <tr>\n",
       "      <th>0</th>\n",
       "      <td>点击</td>\n",
       "      <td>7479078</td>\n",
       "      <td>100.000000</td>\n",
       "      <td>100.0</td>\n",
       "      <td>0.000000</td>\n",
       "    </tr>\n",
       "    <tr>\n",
       "      <th>1</th>\n",
       "      <td>收藏</td>\n",
       "      <td>333371</td>\n",
       "      <td>4.457381</td>\n",
       "      <td>4.457381</td>\n",
       "      <td>95.542619</td>\n",
       "    </tr>\n",
       "    <tr>\n",
       "      <th>2</th>\n",
       "      <td>加购物车</td>\n",
       "      <td>240919</td>\n",
       "      <td>72.267534</td>\n",
       "      <td>3.221239</td>\n",
       "      <td>27.732466</td>\n",
       "    </tr>\n",
       "    <tr>\n",
       "      <th>3</th>\n",
       "      <td>支付</td>\n",
       "      <td>110672</td>\n",
       "      <td>45.937431</td>\n",
       "      <td>1.479755</td>\n",
       "      <td>54.062569</td>\n",
       "    </tr>\n",
       "  </tbody>\n",
       "</table>\n",
       "</div>"
      ],
      "text/plain": [
       "   用户行为      访问量  单一环节转化率(%)  整体转化率(%)  每一环节流失率(%)\n",
       "0    点击  7479078  100.000000     100.0    0.000000\n",
       "1    收藏   333371    4.457381  4.457381   95.542619\n",
       "2  加购物车   240919   72.267534  3.221239   27.732466\n",
       "3    支付   110672   45.937431  1.479755   54.062569"
      ]
     },
     "execution_count": 57,
     "metadata": {},
     "output_type": "execute_result"
    }
   ],
   "source": [
    "#计算每一环节流失率(%)\n",
    "df['每一环节流失率(%)'] = 100 - df['单一环节转化率(%)']\n",
    "df"
   ]
  },
  {
   "cell_type": "markdown",
   "id": "40fd48e9-652f-4bfa-a48d-15c96adc0295",
   "metadata": {},
   "source": [
    "- 结论：用户的流失主要发生在点击-收藏环节。"
   ]
  },
  {
   "cell_type": "markdown",
   "id": "195f736d-1932-470f-b0c0-8c72794eea4d",
   "metadata": {},
   "source": [
    "- 可能原因及建议\n",
    "    - 点击-收藏环节流失\n",
    "        - 原因：用户被投放的广告吸引，进入后发现与预期严重不合，造成流失。\n",
    "        - 建议：优化广告。\n",
    "        - 原因：客户通过检索或推荐到列表页面但没找到合适的产品，造成流失。\n",
    "        - 建议：更新搜索引擎和相关算法，尽可能精准推送相关内容。\n",
    "        - 原因：如果商品的评价过低，造成流失。\n",
    "        - 建议：商家要做进一步调查，分析用户对商品评价低的原因，进一步改进，提升用户的购物体验，最终可以口碑营销。\n",
    "    - 收藏-加购物车环节流失\n",
    "        - 此类用户有较强的购买需求。可以对用户进行精准推送促销信息，刺激用户完成购买。\n",
    "    - 加购物车-支付环节流失\n",
    "        - 原因：生成订单页面步骤过多。\n",
    "        - 建议:\n",
    "            - 优化购物流程，尽可能支持多种支付方式，如银行卡、微信支付、支付宝支付、花呗等。\n",
    "            - 考虑目前到淘宝的购物流程已经很难再简化，需要商家进一步调查，了解用户放弃支付的原因，方便做出调整。"
   ]
  },
  {
   "cell_type": "markdown",
   "id": "1f92579d-d682-4f08-8123-13a967efcadb",
   "metadata": {},
   "source": [
    "## 复购情况分析"
   ]
  },
  {
   "cell_type": "code",
   "execution_count": 59,
   "id": "c2edbaea-3fea-4c84-83d7-43db6600862c",
   "metadata": {
    "collapsed": true,
    "jupyter": {
     "outputs_hidden": true
    },
    "tags": []
   },
   "outputs": [
    {
     "data": {
      "text/plain": [
       "(array([6.838e+03, 1.349e+03, 4.440e+02, 1.580e+02, 4.000e+01, 1.800e+01,\n",
       "        2.200e+01, 4.000e+00, 4.000e+00, 3.000e+00, 0.000e+00, 1.000e+00,\n",
       "        1.000e+00, 0.000e+00, 0.000e+00, 1.000e+00, 0.000e+00, 0.000e+00,\n",
       "        0.000e+00, 0.000e+00, 0.000e+00, 0.000e+00, 0.000e+00, 0.000e+00,\n",
       "        0.000e+00, 0.000e+00, 1.000e+00, 0.000e+00, 0.000e+00, 0.000e+00,\n",
       "        0.000e+00, 0.000e+00, 0.000e+00, 0.000e+00, 0.000e+00, 0.000e+00,\n",
       "        0.000e+00, 1.000e+00, 0.000e+00, 0.000e+00, 0.000e+00, 0.000e+00,\n",
       "        0.000e+00, 0.000e+00, 0.000e+00, 0.000e+00, 0.000e+00, 0.000e+00,\n",
       "        0.000e+00, 1.000e+00]),\n",
       " array([  1.  ,  16.38,  31.76,  47.14,  62.52,  77.9 ,  93.28, 108.66,\n",
       "        124.04, 139.42, 154.8 , 170.18, 185.56, 200.94, 216.32, 231.7 ,\n",
       "        247.08, 262.46, 277.84, 293.22, 308.6 , 323.98, 339.36, 354.74,\n",
       "        370.12, 385.5 , 400.88, 416.26, 431.64, 447.02, 462.4 , 477.78,\n",
       "        493.16, 508.54, 523.92, 539.3 , 554.68, 570.06, 585.44, 600.82,\n",
       "        616.2 , 631.58, 646.96, 662.34, 677.72, 693.1 , 708.48, 723.86,\n",
       "        739.24, 754.62, 770.  ]),\n",
       " <BarContainer object of 50 artists>)"
      ]
     },
     "execution_count": 59,
     "metadata": {},
     "output_type": "execute_result"
    },
    {
     "name": "stderr",
     "output_type": "stream",
     "text": [
      "findfont: Generic family 'sans-serif' not found because none of the following families were found: SimHei\n",
      "findfont: Generic family 'sans-serif' not found because none of the following families were found: SimHei\n",
      "findfont: Generic family 'sans-serif' not found because none of the following families were found: SimHei\n",
      "findfont: Generic family 'sans-serif' not found because none of the following families were found: SimHei\n",
      "findfont: Generic family 'sans-serif' not found because none of the following families were found: SimHei\n",
      "findfont: Generic family 'sans-serif' not found because none of the following families were found: SimHei\n",
      "findfont: Generic family 'sans-serif' not found because none of the following families were found: SimHei\n",
      "findfont: Generic family 'sans-serif' not found because none of the following families were found: SimHei\n",
      "findfont: Generic family 'sans-serif' not found because none of the following families were found: SimHei\n",
      "findfont: Generic family 'sans-serif' not found because none of the following families were found: SimHei\n",
      "findfont: Generic family 'sans-serif' not found because none of the following families were found: SimHei\n",
      "findfont: Generic family 'sans-serif' not found because none of the following families were found: SimHei\n",
      "findfont: Generic family 'sans-serif' not found because none of the following families were found: SimHei\n",
      "findfont: Generic family 'sans-serif' not found because none of the following families were found: SimHei\n",
      "findfont: Generic family 'sans-serif' not found because none of the following families were found: SimHei\n",
      "findfont: Generic family 'sans-serif' not found because none of the following families were found: SimHei\n",
      "findfont: Generic family 'sans-serif' not found because none of the following families were found: SimHei\n",
      "findfont: Generic family 'sans-serif' not found because none of the following families were found: SimHei\n",
      "findfont: Generic family 'sans-serif' not found because none of the following families were found: SimHei\n",
      "findfont: Generic family 'sans-serif' not found because none of the following families were found: SimHei\n",
      "findfont: Generic family 'sans-serif' not found because none of the following families were found: SimHei\n",
      "findfont: Generic family 'sans-serif' not found because none of the following families were found: SimHei\n",
      "findfont: Generic family 'sans-serif' not found because none of the following families were found: SimHei\n",
      "findfont: Generic family 'sans-serif' not found because none of the following families were found: SimHei\n",
      "findfont: Generic family 'sans-serif' not found because none of the following families were found: SimHei\n",
      "findfont: Generic family 'sans-serif' not found because none of the following families were found: SimHei\n",
      "findfont: Generic family 'sans-serif' not found because none of the following families were found: SimHei\n",
      "findfont: Generic family 'sans-serif' not found because none of the following families were found: SimHei\n",
      "findfont: Generic family 'sans-serif' not found because none of the following families were found: SimHei\n",
      "findfont: Generic family 'sans-serif' not found because none of the following families were found: SimHei\n",
      "findfont: Generic family 'sans-serif' not found because none of the following families were found: SimHei\n",
      "findfont: Generic family 'sans-serif' not found because none of the following families were found: SimHei\n",
      "findfont: Generic family 'sans-serif' not found because none of the following families were found: SimHei\n",
      "findfont: Generic family 'sans-serif' not found because none of the following families were found: SimHei\n",
      "findfont: Generic family 'sans-serif' not found because none of the following families were found: SimHei\n",
      "findfont: Generic family 'sans-serif' not found because none of the following families were found: SimHei\n",
      "findfont: Generic family 'sans-serif' not found because none of the following families were found: SimHei\n",
      "findfont: Generic family 'sans-serif' not found because none of the following families were found: SimHei\n",
      "findfont: Generic family 'sans-serif' not found because none of the following families were found: SimHei\n",
      "findfont: Generic family 'sans-serif' not found because none of the following families were found: SimHei\n",
      "findfont: Generic family 'sans-serif' not found because none of the following families were found: SimHei\n",
      "findfont: Generic family 'sans-serif' not found because none of the following families were found: SimHei\n",
      "findfont: Generic family 'sans-serif' not found because none of the following families were found: SimHei\n",
      "findfont: Generic family 'sans-serif' not found because none of the following families were found: SimHei\n",
      "findfont: Generic family 'sans-serif' not found because none of the following families were found: SimHei\n",
      "findfont: Generic family 'sans-serif' not found because none of the following families were found: SimHei\n",
      "findfont: Generic family 'sans-serif' not found because none of the following families were found: SimHei\n",
      "findfont: Generic family 'sans-serif' not found because none of the following families were found: SimHei\n",
      "findfont: Generic family 'sans-serif' not found because none of the following families were found: SimHei\n",
      "findfont: Generic family 'sans-serif' not found because none of the following families were found: SimHei\n",
      "findfont: Generic family 'sans-serif' not found because none of the following families were found: SimHei\n",
      "findfont: Generic family 'sans-serif' not found because none of the following families were found: SimHei\n",
      "findfont: Generic family 'sans-serif' not found because none of the following families were found: SimHei\n",
      "findfont: Generic family 'sans-serif' not found because none of the following families were found: SimHei\n",
      "findfont: Generic family 'sans-serif' not found because none of the following families were found: SimHei\n",
      "findfont: Generic family 'sans-serif' not found because none of the following families were found: SimHei\n",
      "findfont: Generic family 'sans-serif' not found because none of the following families were found: SimHei\n",
      "findfont: Generic family 'sans-serif' not found because none of the following families were found: SimHei\n",
      "findfont: Generic family 'sans-serif' not found because none of the following families were found: SimHei\n",
      "findfont: Generic family 'sans-serif' not found because none of the following families were found: SimHei\n",
      "findfont: Generic family 'sans-serif' not found because none of the following families were found: SimHei\n",
      "findfont: Generic family 'sans-serif' not found because none of the following families were found: SimHei\n",
      "findfont: Generic family 'sans-serif' not found because none of the following families were found: SimHei\n",
      "findfont: Generic family 'sans-serif' not found because none of the following families were found: SimHei\n",
      "findfont: Generic family 'sans-serif' not found because none of the following families were found: SimHei\n",
      "findfont: Generic family 'sans-serif' not found because none of the following families were found: SimHei\n",
      "findfont: Generic family 'sans-serif' not found because none of the following families were found: SimHei\n",
      "findfont: Generic family 'sans-serif' not found because none of the following families were found: SimHei\n"
     ]
    },
    {
     "data": {
      "image/png": "[encoded data removed]",
      "text/plain": [
       "<Figure size 640x480 with 1 Axes>"
      ]
     },
     "metadata": {},
     "output_type": "display_data"
    }
   ],
   "source": [
    "#用户购买次数直方图\n",
    "buy_df = data.loc[data['behavior_type'] == 4]\n",
    "user_buy_s = buy_df.groupby(by='user_id')['behavior_type'].count()\n",
    "plt.hist(user_buy_s,bins=50)"
   ]
  },
  {
   "cell_type": "code",
   "execution_count": 60,
   "id": "6b2d756a-97cf-4d8c-9a0f-1aef563365d9",
   "metadata": {
    "tags": []
   },
   "outputs": [
    {
     "data": {
      "text/plain": [
       "91.44722034661264"
      ]
     },
     "execution_count": 60,
     "metadata": {},
     "output_type": "execute_result"
    }
   ],
   "source": [
    "#计算复购率=购买次数大于1的用户数量/有购买行为的用户总数\n",
    "reBuy_rate = user_buy_s[user_buy_s > 1].count() / user_buy_s.count() * 100\n",
    "reBuy_rate"
   ]
  },
  {
   "cell_type": "markdown",
   "id": "07f8052a-50f2-4844-aafc-c0fe408bd8e0",
   "metadata": {},
   "source": [
    "- 结论：2014年11月18日至2014年12月18日这一个月用户复购率高达91.45%"
   ]
  },
  {
   "cell_type": "markdown",
   "id": "f4bf197e-8e8d-4dc9-851b-099702a8e1f8",
   "metadata": {},
   "source": [
    "## 用户价值分析"
   ]
  },
  {
   "cell_type": "code",
   "execution_count": 61,
   "id": "fd1984ed-7a6b-4929-a698-476b054464db",
   "metadata": {
    "tags": []
   },
   "outputs": [
    {
     "data": {
      "text/html": [
       "<div>\n",
       "<style scoped>\n",
       "    .dataframe tbody tr th:only-of-type {\n",
       "        vertical-align: middle;\n",
       "    }\n",
       "\n",
       "    .dataframe tbody tr th {\n",
       "        vertical-align: top;\n",
       "    }\n",
       "\n",
       "    .dataframe thead th {\n",
       "        text-align: right;\n",
       "    }\n",
       "</style>\n",
       "<table border=\"1\" class=\"dataframe\">\n",
       "  <thead>\n",
       "    <tr style=\"text-align: right;\">\n",
       "      <th></th>\n",
       "      <th>user_id</th>\n",
       "      <th>item_id</th>\n",
       "      <th>behavior_type</th>\n",
       "      <th>item_category</th>\n",
       "      <th>date</th>\n",
       "      <th>hour</th>\n",
       "    </tr>\n",
       "  </thead>\n",
       "  <tbody>\n",
       "    <tr>\n",
       "      <th>143</th>\n",
       "      <td>101260672</td>\n",
       "      <td>73008997</td>\n",
       "      <td>4</td>\n",
       "      <td>4076</td>\n",
       "      <td>2014-11-25</td>\n",
       "      <td>13</td>\n",
       "    </tr>\n",
       "    <tr>\n",
       "      <th>146</th>\n",
       "      <td>116730636</td>\n",
       "      <td>85319721</td>\n",
       "      <td>4</td>\n",
       "      <td>10079</td>\n",
       "      <td>2014-12-17</td>\n",
       "      <td>11</td>\n",
       "    </tr>\n",
       "    <tr>\n",
       "      <th>152</th>\n",
       "      <td>104811265</td>\n",
       "      <td>61764614</td>\n",
       "      <td>4</td>\n",
       "      <td>675</td>\n",
       "      <td>2014-12-01</td>\n",
       "      <td>13</td>\n",
       "    </tr>\n",
       "    <tr>\n",
       "      <th>177</th>\n",
       "      <td>106230218</td>\n",
       "      <td>238910858</td>\n",
       "      <td>4</td>\n",
       "      <td>12090</td>\n",
       "      <td>2014-12-03</td>\n",
       "      <td>11</td>\n",
       "    </tr>\n",
       "    <tr>\n",
       "      <th>198</th>\n",
       "      <td>100684618</td>\n",
       "      <td>271840783</td>\n",
       "      <td>4</td>\n",
       "      <td>12220</td>\n",
       "      <td>2014-11-23</td>\n",
       "      <td>18</td>\n",
       "    </tr>\n",
       "  </tbody>\n",
       "</table>\n",
       "</div>"
      ],
      "text/plain": [
       "       user_id    item_id  behavior_type item_category       date  hour\n",
       "143  101260672   73008997              4          4076 2014-11-25    13\n",
       "146  116730636   85319721              4         10079 2014-12-17    11\n",
       "152  104811265   61764614              4           675 2014-12-01    13\n",
       "177  106230218  238910858              4         12090 2014-12-03    11\n",
       "198  100684618  271840783              4         12220 2014-11-23    18"
      ]
     },
     "execution_count": 61,
     "metadata": {},
     "output_type": "execute_result"
    }
   ],
   "source": [
    "#将已购用户的数据单独取出\n",
    "buy_df = data.loc[data['behavior_type'] == 4]\n",
    "buy_df.head()"
   ]
  },
  {
   "cell_type": "code",
   "execution_count": 62,
   "id": "cbd21c23-37b5-4790-a629-f595618d47a4",
   "metadata": {
    "tags": []
   },
   "outputs": [],
   "source": [
    "#计算R：R表示客户最近一次交易时间的间隔\n",
    "#/np.timedelta64(1,'D')去出days\n",
    "now_date = buy_df['date'].max()\n",
    "R = buy_df.groupby(by='user_id')['date'].apply(lambda x:now_date - x.max()) / np.timedelta64(1,'D')"
   ]
  },
  {
   "cell_type": "code",
   "execution_count": 63,
   "id": "ce41a074-d3f8-4979-b079-b38072955d7a",
   "metadata": {
    "tags": []
   },
   "outputs": [],
   "source": [
    "#计算F：每个用户消费频率\n",
    "F = buy_df.groupby(by='user_id')['date'].count()"
   ]
  },
  {
   "cell_type": "code",
   "execution_count": 64,
   "id": "ead5d2a4-3a4c-42ed-bce6-d3c93a82b627",
   "metadata": {
    "tags": []
   },
   "outputs": [
    {
     "data": {
      "text/html": [
       "<div>\n",
       "<style scoped>\n",
       "    .dataframe tbody tr th:only-of-type {\n",
       "        vertical-align: middle;\n",
       "    }\n",
       "\n",
       "    .dataframe tbody tr th {\n",
       "        vertical-align: top;\n",
       "    }\n",
       "\n",
       "    .dataframe thead th {\n",
       "        text-align: right;\n",
       "    }\n",
       "</style>\n",
       "<table border=\"1\" class=\"dataframe\">\n",
       "  <thead>\n",
       "    <tr style=\"text-align: right;\">\n",
       "      <th></th>\n",
       "      <th>R</th>\n",
       "      <th>F</th>\n",
       "    </tr>\n",
       "    <tr>\n",
       "      <th>user_id</th>\n",
       "      <th></th>\n",
       "      <th></th>\n",
       "    </tr>\n",
       "  </thead>\n",
       "  <tbody>\n",
       "    <tr>\n",
       "      <th>4913</th>\n",
       "      <td>2.0</td>\n",
       "      <td>6.0</td>\n",
       "    </tr>\n",
       "    <tr>\n",
       "      <th>6118</th>\n",
       "      <td>1.0</td>\n",
       "      <td>1.0</td>\n",
       "    </tr>\n",
       "    <tr>\n",
       "      <th>7528</th>\n",
       "      <td>5.0</td>\n",
       "      <td>6.0</td>\n",
       "    </tr>\n",
       "    <tr>\n",
       "      <th>7591</th>\n",
       "      <td>5.0</td>\n",
       "      <td>21.0</td>\n",
       "    </tr>\n",
       "    <tr>\n",
       "      <th>12645</th>\n",
       "      <td>4.0</td>\n",
       "      <td>8.0</td>\n",
       "    </tr>\n",
       "  </tbody>\n",
       "</table>\n",
       "</div>"
      ],
      "text/plain": [
       "           R     F\n",
       "user_id           \n",
       "4913     2.0   6.0\n",
       "6118     1.0   1.0\n",
       "7528     5.0   6.0\n",
       "7591     5.0  21.0\n",
       "12645    4.0   8.0"
      ]
     },
     "execution_count": 64,
     "metadata": {},
     "output_type": "execute_result"
    }
   ],
   "source": [
    "rfm = pd.DataFrame(data=[R,F],index=['R','F']).T\n",
    "rfm.head()"
   ]
  },
  {
   "cell_type": "code",
   "execution_count": 65,
   "id": "3a7d770f-a912-4b55-85f2-b3bd3b609181",
   "metadata": {
    "tags": []
   },
   "outputs": [
    {
     "data": {
      "text/html": [
       "<div>\n",
       "<style scoped>\n",
       "    .dataframe tbody tr th:only-of-type {\n",
       "        vertical-align: middle;\n",
       "    }\n",
       "\n",
       "    .dataframe tbody tr th {\n",
       "        vertical-align: top;\n",
       "    }\n",
       "\n",
       "    .dataframe thead th {\n",
       "        text-align: right;\n",
       "    }\n",
       "</style>\n",
       "<table border=\"1\" class=\"dataframe\">\n",
       "  <thead>\n",
       "    <tr style=\"text-align: right;\">\n",
       "      <th></th>\n",
       "      <th>R</th>\n",
       "      <th>F</th>\n",
       "      <th>R_value</th>\n",
       "      <th>F_value</th>\n",
       "      <th>rfm</th>\n",
       "      <th>user_type</th>\n",
       "    </tr>\n",
       "    <tr>\n",
       "      <th>user_id</th>\n",
       "      <th></th>\n",
       "      <th></th>\n",
       "      <th></th>\n",
       "      <th></th>\n",
       "      <th></th>\n",
       "      <th></th>\n",
       "    </tr>\n",
       "  </thead>\n",
       "  <tbody>\n",
       "    <tr>\n",
       "      <th>4913</th>\n",
       "      <td>2.0</td>\n",
       "      <td>6.0</td>\n",
       "      <td>1</td>\n",
       "      <td>0</td>\n",
       "      <td>10</td>\n",
       "      <td>重要发展客户</td>\n",
       "    </tr>\n",
       "    <tr>\n",
       "      <th>6118</th>\n",
       "      <td>1.0</td>\n",
       "      <td>1.0</td>\n",
       "      <td>1</td>\n",
       "      <td>0</td>\n",
       "      <td>10</td>\n",
       "      <td>重要发展客户</td>\n",
       "    </tr>\n",
       "    <tr>\n",
       "      <th>7528</th>\n",
       "      <td>5.0</td>\n",
       "      <td>6.0</td>\n",
       "      <td>1</td>\n",
       "      <td>0</td>\n",
       "      <td>10</td>\n",
       "      <td>重要发展客户</td>\n",
       "    </tr>\n",
       "    <tr>\n",
       "      <th>7591</th>\n",
       "      <td>5.0</td>\n",
       "      <td>21.0</td>\n",
       "      <td>1</td>\n",
       "      <td>1</td>\n",
       "      <td>11</td>\n",
       "      <td>重要价值客户</td>\n",
       "    </tr>\n",
       "    <tr>\n",
       "      <th>12645</th>\n",
       "      <td>4.0</td>\n",
       "      <td>8.0</td>\n",
       "      <td>1</td>\n",
       "      <td>0</td>\n",
       "      <td>10</td>\n",
       "      <td>重要发展客户</td>\n",
       "    </tr>\n",
       "  </tbody>\n",
       "</table>\n",
       "</div>"
      ],
      "text/plain": [
       "           R     F R_value F_value rfm user_type\n",
       "user_id                                         \n",
       "4913     2.0   6.0       1       0  10    重要发展客户\n",
       "6118     1.0   1.0       1       0  10    重要发展客户\n",
       "7528     5.0   6.0       1       0  10    重要发展客户\n",
       "7591     5.0  21.0       1       1  11    重要价值客户\n",
       "12645    4.0   8.0       1       0  10    重要发展客户"
      ]
     },
     "execution_count": 65,
     "metadata": {},
     "output_type": "execute_result"
    }
   ],
   "source": [
    "#将各维度分成两个程度\n",
    "recent_avg = rfm['R'].mean()\n",
    "freq_avg = rfm['F'].mean()\n",
    "#R应该是越小越好，则R小于均值返回1，否则返回0\n",
    "def rec_value(x):\n",
    "    if x < recent_avg:\n",
    "        return '1'\n",
    "    else:\n",
    "        return '0'\n",
    "#F应该是越大越好，则F大于均值返回1，否则返回0   \n",
    "def freq_value(x):\n",
    "    if x > freq_avg:\n",
    "        return '1'\n",
    "    else:\n",
    "        return '0'\n",
    "rfm['R_value'] = rfm['R'].apply(rec_value)\n",
    "rfm['F_value'] = rfm['F'].apply(freq_value)\n",
    "#将R和F拼接到一起\n",
    "rfm['rfm']=rfm['R_value'].str.cat(rfm['F_value'])\n",
    "#根据R和F的拼接判定用户等级\n",
    "def rfm_value(x):\n",
    "    if x == '10':#购买间隔短，但是购买频率低\n",
    "        return '重要发展客户'\n",
    "    elif x == '01':#购买间隔长，但是购买频率高\n",
    "        return '重要保持客户'\n",
    "    elif x == '00':\n",
    "        return '重要挽留客户'\n",
    "    else:\n",
    "        return '重要价值客户'\n",
    "rfm['user_type'] = rfm['rfm'].apply(rfm_value)\n",
    "rfm.head()"
   ]
  },
  {
   "cell_type": "code",
   "execution_count": 66,
   "id": "f1503c5c-0bca-421b-9922-d42c6e44bc7e",
   "metadata": {
    "tags": []
   },
   "outputs": [
    {
     "data": {
      "text/plain": [
       "user_type\n",
       "重要挽留客户    34.233626\n",
       "重要发展客户    33.400855\n",
       "重要价值客户    27.143822\n",
       "重要保持客户     5.221697\n",
       "Name: count, dtype: float64"
      ]
     },
     "execution_count": 66,
     "metadata": {},
     "output_type": "execute_result"
    }
   ],
   "source": [
    "#各类用户占比\n",
    "user_type_count_s = rfm['user_type'].value_counts()\n",
    "user_type_count_s / user_type_count_s.sum() * 100"
   ]
  },
  {
   "cell_type": "markdown",
   "id": "2f7b78a9-432e-46ea-9e2d-c8343ff4afe6",
   "metadata": {},
   "source": [
    "- 结论\n",
    "- 重要挽留客户：占比最大，该类用户消费时间间隔较远，并且消费频次低。需要主动联系客户，调查清楚哪里出现了问题，可以通过短信，邮件，APP推送等唤醒客户，尽可能减少流失。\n",
    "    - 重要发展客户：消费频次低，可以适当给点折扣或捆绑销售来增加用户的购买频率，尽可能提高留存率。\n",
    "    - 重要价值客户：为重点用户，但用户比较少。可以针对性地给这类客户提供 VIP服务；\n",
    "    - 重要保持客户：消费时间间隔较远，但是消费频次高。该类用户可能一次性购买很多东西。对于这类客户，需要主动联系，关注他们的购物习性做精准化营销，及时满足这类用户的需求。\n"
   ]
  },
  {
   "cell_type": "code",
   "execution_count": null,
   "id": "e598af54-37ae-440b-99fd-5cf8f950e5f7",
   "metadata": {},
   "outputs": [],
   "source": []
  }
 ],
 "metadata": {
  "kernelspec": {
   "display_name": "Python 3 (ipykernel)",
   "language": "python",
   "name": "python3"
  },
  "language_info": {
   "codemirror_mode": {
    "name": "ipython",
    "version": 3
   },
   "file_extension": ".py",
   "mimetype": "text/x-python",
   "name": "python",
   "nbconvert_exporter": "python",
   "pygments_lexer": "ipython3",
   "version": "3.10.12"
  }
 },
 "nbformat": 4,
 "nbformat_minor": 5
}
